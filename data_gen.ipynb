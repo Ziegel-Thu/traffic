{
 "cells": [
  {
   "cell_type": "code",
   "execution_count": 3,
   "metadata": {},
   "outputs": [],
   "source": [
    "import pandas as pd\n",
    "import numpy as np\n",
    "import torch\n",
    "import math\n",
    "TIMEWINDOWS = 12\n",
    "LateWINDOWS = 3\n",
    "minl =2 \n",
    "size=500#可换成 400,300\n",
    "depot_nubmer=1\n",
    "vehicle_nubmer=10\n",
    "num_samples=100#生成100个案例\n",
    "tw_pd=np.random.uniform(size=(num_samples,depot_nubmer+size,1))*TIMEWINDOWS #pickup的时间窗\n",
    "tw_d=np.random.uniform(size=(num_samples,int(size/2)))*LateWINDOWS+minl #delivery的时间窗\n",
    "#假设共有2n个顾客，则(1,n+1),(2,n+2),...,(n,2n)是配对关系\n",
    "tw_pd[:,(1+int(size/2)):,0]=tw_pd[:,1:(1+int(size/2)),0]+tw_d #赋值delivery的时间窗\n",
    "tw_pd[:,0,0]=100#100是一个很大的返回时间窗\n",
    "loc=np.random.uniform(size=(num_samples,size+1,2))#坐标\n",
    "loc[:,0,:]=[0.5,0.5]#定义depot的坐标,20是一个很大返回时间窗\n",
    "result=np.concatenate((loc,tw_pd), axis=2)#输出结果\n",
    "#result第一列为横坐标，第二列为纵坐标，第三列为时间窗。\n",
    "\n",
    "# 以下四行是计算500个customer的距离矩阵的一种算法，计算速度很快，可以考虑采用。\n",
    "# data=result[0][:,:2].transpose()\n",
    "# G=[ np.dot(data_sum.T, data_sum) ]\n",
    "# def Tadd(M):\n",
    "#     return M+M.T\n",
    "# dis_matrix=np.array([((Tadd(np.tile(np.diag(i), (size+depot_nubmer, 1)))-i*2)**0.5) for i in G ])#(np.hstack\n",
    "\n",
    "#一辆车的旅行成本计算如下，最终输出所有车辆的成本和\n",
    "# pi为计算好的顾客次序\n",
    "# tourlen=0\n",
    "# for i in range(size):\n",
    "#     tourlen=tourlen+np.linalg.norm(d[pi[i],:2]-d[pi[i+1],:2])#从顾客pi[i]到pi[i+1]的欧式距离\n",
    "#     if tourlen>late_tw:#若抵达时间迟于晚到时间窗，则需乘以0.5的惩罚系数\n",
    "#         key=key+0.5*(tourlen-late_tw)\n",
    "# tourlen=tourlen+key+np.linalg.norm(d[pi[size],:2] - d[0,:2]) #服务完客户后返回depot\n",
    "\n",
    "#算法最后输出的结果应该为旅行次序，总成本，与计算时间。\n",
    "#最终得到所有样本平均的旅行成本与计算时间"
   ]
  },
  {
   "cell_type": "code",
   "execution_count": 4,
   "metadata": {},
   "outputs": [
    {
     "data": {
      "text/plain": [
       "array([[  0.5       ,   0.5       , 100.        ],\n",
       "       [  0.49156318,   0.62865267,   0.37429788],\n",
       "       [  0.4668505 ,   0.28013002,   0.85903638],\n",
       "       ...,\n",
       "       [  0.7113922 ,   0.1100312 ,   9.89597566],\n",
       "       [  0.73582071,   0.94797338,  12.93242068],\n",
       "       [  0.93692924,   0.98639184,   7.59142686]])"
      ]
     },
     "execution_count": 4,
     "metadata": {},
     "output_type": "execute_result"
    }
   ],
   "source": [
    "result[0]"
   ]
  },
  {
   "cell_type": "code",
   "execution_count": null,
   "metadata": {
    "scrolled": true
   },
   "outputs": [],
   "source": [
    "result[0][:,0]"
   ]
  },
  {
   "cell_type": "code",
   "execution_count": null,
   "metadata": {},
   "outputs": [],
   "source": [
    "\n",
    "# data_sum=np.random.uniform(size=(2,size+depot_nubmer))   \n",
    "# data_sum[0]=result[0][:,0]\n",
    "# data_sum[1]=result[0][:,1]\n",
    "# #G=[ np.dot(i.T, i) for i in data_sum]\n",
    "data=result[0][:,:2].transpose()\n",
    "G=[ np.dot(data_sum.T, data_sum) ]\n",
    "def Tadd(M):\n",
    "    return M+M.T\n",
    "dis_matrix=np.array([((Tadd(np.tile(np.diag(i), (size+depot_nubmer, 1)))-i*2)**0.5) for i in G ])#(np.hstack\n"
   ]
  },
  {
   "cell_type": "code",
   "execution_count": null,
   "metadata": {},
   "outputs": [],
   "source": [
    "result[0][:,:2].transpose()"
   ]
  },
  {
   "cell_type": "code",
   "execution_count": null,
   "metadata": {},
   "outputs": [],
   "source": [
    "vrp_size"
   ]
  },
  {
   "cell_type": "code",
   "execution_count": null,
   "metadata": {},
   "outputs": [],
   "source": []
  }
 ],
 "metadata": {
  "kernelspec": {
   "display_name": "k2021",
   "language": "python",
   "name": "k2021"
  },
  "language_info": {
   "codemirror_mode": {
    "name": "ipython",
    "version": 3
   },
   "file_extension": ".py",
   "mimetype": "text/x-python",
   "name": "python",
   "nbconvert_exporter": "python",
   "pygments_lexer": "ipython3",
   "version": "3.7.9"
  }
 },
 "nbformat": 4,
 "nbformat_minor": 2
}
